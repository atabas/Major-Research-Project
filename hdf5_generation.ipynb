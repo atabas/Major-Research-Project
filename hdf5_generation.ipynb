{
 "cells": [
  {
   "cell_type": "markdown",
   "metadata": {},
   "source": [
    "Reading and augmetung DICOM image files during training is expensive. We generate an HDF5 file that contains all the images and labels which is much more performant during training time.  "
   ]
  },
  {
   "cell_type": "code",
   "execution_count": 8,
   "metadata": {},
   "outputs": [],
   "source": [
    "import torch\n",
    "import torch.nn as nn\n",
    "import torch.nn.functional as F\n",
    "import torch.optim as optim\n",
    "import torchvision\n",
    "from torchvision import datasets, transforms\n",
    "from torch.utils.data import DataLoader, Dataset\n",
    "import pydicom\n",
    "import h5py\n",
    "\n",
    "import numpy as np\n",
    "import matplotlib.pyplot as plt\n",
    "from matplotlib import colors\n",
    "from IPython import display\n",
    "import os\n",
    "from PIL import Image\n",
    "from torch.utils.data.dataset import Dataset\n",
    "from matplotlib.pyplot import imread\n",
    "import glob\n",
    "import os\n",
    "import random\n",
    "import pandas as pd\n",
    "from sklearn.preprocessing import LabelEncoder\n",
    "from sklearn.model_selection import StratifiedKFold"
   ]
  },
  {
   "cell_type": "code",
   "execution_count": 3,
   "metadata": {},
   "outputs": [],
   "source": [
    "# convert pathology values to 0,1, or 2\n",
    "label_encoder = LabelEncoder()\n",
    "\n",
    "# Get labels from images\n",
    "def get_label_dict(df_info, path_column, test=False):\n",
    "    # Just want the 1st part from the image path\n",
    "    df_info['image_path_base_dir'] = df_info[path_column].apply(lambda x: x[:x.find('/')])\n",
    "    bc_callback_indices = df_info[df_info['pathology'] == 'BENIGN_WITHOUT_CALLBACK'].index\n",
    "    df_info.loc[list(bc_callback_indices), 'pathology'] = 'BENIGN'\n",
    "\n",
    "    if test:\n",
    "        df_info['pathlogy_label'] = label_encoder.transform(df_info['pathology'])\n",
    "    else:\n",
    "        df_info['pathlogy_label'] = label_encoder.fit_transform(df_info['pathology'])\n",
    "    # key-value => image_path: pathology_value (eg malignant or benign)\n",
    "    label_dict = pd.Series(df_info['pathlogy_label'].values,index=df_info['image_path_base_dir']).to_dict()\n",
    "    return label_dict\n",
    "    \n",
    "df_train_info = pd.read_csv('Mass-Full-Images_CBIS-DDSM/mass_case_description_train_set.csv')\n",
    "df_test_info = pd.read_csv('Mass-Full-Images_CBIS-DDSM/mass_case_description_test_set.csv')\n",
    "\n",
    "train_label_dict = get_label_dict(df_train_info, 'image file path')\n",
    "test_label_dict = get_label_dict(df_test_info, 'image file path', test=True)\n",
    "\n",
    "train_cropped_label_dict = get_label_dict(df_train_info, 'cropped image file path')\n",
    "test_cropped_label_dict = get_label_dict(df_test_info, 'cropped image file path', test=True)"
   ]
  },
  {
   "cell_type": "code",
   "execution_count": 5,
   "metadata": {},
   "outputs": [
    {
     "name": "stdout",
     "output_type": "stream",
     "text": [
      "{'Mass-Test_P_00016_LEFT_CC_1': 1, 'Mass-Test_P_00016_LEFT_MLO_1': 1, 'Mass-Test_P_00017_LEFT_CC_1': 1, 'Mass-Test_P_00017_LEFT_MLO_1': 1, 'Mass-Test_P_00032_RIGHT_CC_1': 0, 'Mass-Test_P_00032_RIGHT_MLO_1': 0, 'Mass-Test_P_00037_RIGHT_CC_1': 1, 'Mass-Test_P_00037_RIGHT_MLO_1': 1, 'Mass-Test_P_00056_LEFT_MLO_1': 0, 'Mass-Test_P_00066_LEFT_CC_1': 1, 'Mass-Test_P_00066_LEFT_MLO_1': 1, 'Mass-Test_P_00099_LEFT_MLO_1': 0, 'Mass-Test_P_00114_LEFT_MLO_1': 0, 'Mass-Test_P_00116_RIGHT_CC_1': 1, 'Mass-Test_P_00116_RIGHT_CC_2': 1, 'Mass-Test_P_00116_RIGHT_MLO_1': 1, 'Mass-Test_P_00116_RIGHT_MLO_2': 1, 'Mass-Test_P_00118_RIGHT_CC_1': 1, 'Mass-Test_P_00118_RIGHT_MLO_1': 1, 'Mass-Test_P_00124_RIGHT_CC_1': 0, 'Mass-Test_P_00126_RIGHT_CC_1': 0, 'Mass-Test_P_00126_RIGHT_MLO_1': 0, 'Mass-Test_P_00131_LEFT_CC_1': 0, 'Mass-Test_P_00131_LEFT_MLO_1': 0, 'Mass-Test_P_00145_LEFT_CC_1': 0, 'Mass-Test_P_00145_LEFT_MLO_1': 0, 'Mass-Test_P_00147_RIGHT_CC_1': 1, 'Mass-Test_P_00147_RIGHT_MLO_1': 1, 'Mass-Test_P_00156_RIGHT_MLO_1': 0, 'Mass-Test_P_00158_RIGHT_MLO_1': 0, 'Mass-Test_P_00159_RIGHT_MLO_1': 0, 'Mass-Test_P_00171_RIGHT_CC_1': 0, 'Mass-Test_P_00171_RIGHT_MLO_1': 0, 'Mass-Test_P_00173_LEFT_CC_1': 0, 'Mass-Test_P_00173_LEFT_MLO_1': 0, 'Mass-Test_P_00173_RIGHT_CC_1': 0, 'Mass-Test_P_00173_RIGHT_CC_2': 0, 'Mass-Test_P_00173_RIGHT_MLO_1': 0, 'Mass-Test_P_00173_RIGHT_MLO_2': 0, 'Mass-Test_P_00177_LEFT_CC_1': 0, 'Mass-Test_P_00177_LEFT_MLO_1': 0, 'Mass-Test_P_00192_RIGHT_CC_1': 0, 'Mass-Test_P_00194_RIGHT_CC_1': 1, 'Mass-Test_P_00194_RIGHT_MLO_1': 1, 'Mass-Test_P_00198_LEFT_CC_1': 1, 'Mass-Test_P_00198_LEFT_MLO_1': 1, 'Mass-Test_P_00200_LEFT_CC_1': 0, 'Mass-Test_P_00200_LEFT_MLO_1': 0, 'Mass-Test_P_00200_RIGHT_CC_1': 0, 'Mass-Test_P_00200_RIGHT_MLO_1': 0, 'Mass-Test_P_00202_RIGHT_CC_1': 1, 'Mass-Test_P_00202_RIGHT_MLO_1': 1, 'Mass-Test_P_00203_LEFT_CC_1': 0, 'Mass-Test_P_00203_LEFT_MLO_1': 0, 'Mass-Test_P_00209_LEFT_MLO_1': 1, 'Mass-Test_P_00212_RIGHT_CC_1': 1, 'Mass-Test_P_00212_RIGHT_MLO_1': 1, 'Mass-Test_P_00230_RIGHT_CC_1': 0, 'Mass-Test_P_00230_RIGHT_MLO_1': 0, 'Mass-Test_P_00238_RIGHT_CC_1': 0, 'Mass-Test_P_00238_RIGHT_MLO_1': 0, 'Mass-Test_P_00278_RIGHT_CC_1': 0, 'Mass-Test_P_00278_RIGHT_MLO_1': 0, 'Mass-Test_P_00296_LEFT_CC_1': 1, 'Mass-Test_P_00296_LEFT_MLO_1': 1, 'Mass-Test_P_00324_RIGHT_CC_1': 1, 'Mass-Test_P_00324_RIGHT_MLO_1': 1, 'Mass-Test_P_00340_LEFT_CC_1': 0, 'Mass-Test_P_00343_LEFT_CC_1': 0, 'Mass-Test_P_00343_LEFT_MLO_1': 0, 'Mass-Test_P_00343_RIGHT_CC_1': 0, 'Mass-Test_P_00343_RIGHT_CC_2': 0, 'Mass-Test_P_00343_RIGHT_MLO_1': 0, 'Mass-Test_P_00343_RIGHT_MLO_2': 0, 'Mass-Test_P_00347_LEFT_CC_1': 1, 'Mass-Test_P_00347_LEFT_MLO_1': 1, 'Mass-Test_P_00358_RIGHT_CC_1': 0, 'Mass-Test_P_00358_RIGHT_MLO_1': 0, 'Mass-Test_P_00359_LEFT_MLO_1': 0, 'Mass-Test_P_00369_LEFT_CC_1': 0, 'Mass-Test_P_00369_LEFT_MLO_1': 0, 'Mass-Test_P_00375_RIGHT_CC_1': 1, 'Mass-Test_P_00375_RIGHT_MLO_1': 1, 'Mass-Test_P_00379_LEFT_CC_1': 0, 'Mass-Test_P_00379_LEFT_MLO_1': 0, 'Mass-Test_P_00381_LEFT_CC_1': 0, 'Mass-Test_P_00381_LEFT_MLO_1': 0, 'Mass-Test_P_00387_RIGHT_CC_1': 0, 'Mass-Test_P_00387_RIGHT_MLO_1': 0, 'Mass-Test_P_00391_LEFT_CC_1': 0, 'Mass-Test_P_00391_LEFT_MLO_1': 0, 'Mass-Test_P_00391_RIGHT_CC_1': 0, 'Mass-Test_P_00391_RIGHT_MLO_1': 0, 'Mass-Test_P_00394_RIGHT_MLO_1': 0, 'Mass-Test_P_00405_LEFT_CC_1': 0, 'Mass-Test_P_00405_LEFT_MLO_1': 0, 'Mass-Test_P_00409_RIGHT_CC_1': 0, 'Mass-Test_P_00409_RIGHT_MLO_1': 0, 'Mass-Test_P_00429_LEFT_CC_1': 0, 'Mass-Test_P_00429_LEFT_MLO_1': 0, 'Mass-Test_P_00433_LEFT_CC_1': 0, 'Mass-Test_P_00433_LEFT_MLO_1': 0, 'Mass-Test_P_00457_LEFT_CC_1': 0, 'Mass-Test_P_00457_LEFT_MLO_1': 0, 'Mass-Test_P_00464_RIGHT_CC_1': 0, 'Mass-Test_P_00464_RIGHT_MLO_1': 0, 'Mass-Test_P_00470_RIGHT_CC_1': 0, 'Mass-Test_P_00470_RIGHT_MLO_1': 0, 'Mass-Test_P_00481_RIGHT_CC_1': 1, 'Mass-Test_P_00481_RIGHT_MLO_1': 1, 'Mass-Test_P_00482_LEFT_CC_1': 0, 'Mass-Test_P_00482_LEFT_MLO_1': 0, 'Mass-Test_P_00490_RIGHT_CC_1': 0, 'Mass-Test_P_00490_RIGHT_MLO_1': 0, 'Mass-Test_P_00493_RIGHT_CC_1': 0, 'Mass-Test_P_00494_RIGHT_CC_1': 0, 'Mass-Test_P_00494_RIGHT_MLO_1': 0, 'Mass-Test_P_00498_LEFT_CC_1': 1, 'Mass-Test_P_00498_LEFT_MLO_1': 1, 'Mass-Test_P_00500_RIGHT_MLO_1': 1, 'Mass-Test_P_00510_LEFT_CC_4': 0, 'Mass-Test_P_00510_LEFT_MLO_2': 0, 'Mass-Test_P_00514_LEFT_MLO_1': 1, 'Mass-Test_P_00516_LEFT_CC_1': 1, 'Mass-Test_P_00516_LEFT_MLO_1': 1, 'Mass-Test_P_00524_LEFT_CC_1': 1, 'Mass-Test_P_00524_LEFT_MLO_1': 1, 'Mass-Test_P_00533_LEFT_CC_1': 0, 'Mass-Test_P_00533_LEFT_MLO_1': 0, 'Mass-Test_P_00544_LEFT_CC_1': 1, 'Mass-Test_P_00544_LEFT_MLO_1': 1, 'Mass-Test_P_00576_LEFT_CC_1': 1, 'Mass-Test_P_00576_LEFT_MLO_1': 1, 'Mass-Test_P_00587_RIGHT_CC_1': 0, 'Mass-Test_P_00587_RIGHT_MLO_1': 0, 'Mass-Test_P_00591_RIGHT_MLO_3': 1, 'Mass-Test_P_00598_LEFT_CC_1': 1, 'Mass-Test_P_00598_LEFT_MLO_1': 1, 'Mass-Test_P_00601_LEFT_CC_1': 0, 'Mass-Test_P_00601_LEFT_MLO_2': 0, 'Mass-Test_P_00612_RIGHT_MLO_1': 0, 'Mass-Test_P_00615_RIGHT_CC_1': 0, 'Mass-Test_P_00615_RIGHT_MLO_1': 0, 'Mass-Test_P_00623_LEFT_CC_1': 0, 'Mass-Test_P_00623_LEFT_MLO_1': 0, 'Mass-Test_P_00629_RIGHT_CC_1': 0, 'Mass-Test_P_00629_RIGHT_MLO_1': 0, 'Mass-Test_P_00636_RIGHT_CC_1': 1, 'Mass-Test_P_00636_RIGHT_MLO_1': 1, 'Mass-Test_P_00639_LEFT_MLO_1': 0, 'Mass-Test_P_00641_RIGHT_CC_1': 1, 'Mass-Test_P_00641_RIGHT_MLO_1': 1, 'Mass-Test_P_00652_LEFT_CC_1': 0, 'Mass-Test_P_00656_RIGHT_MLO_1': 1, 'Mass-Test_P_00662_LEFT_CC_1': 0, 'Mass-Test_P_00662_LEFT_MLO_1': 0, 'Mass-Test_P_00671_LEFT_CC_1': 0, 'Mass-Test_P_00671_LEFT_MLO_1': 0, 'Mass-Test_P_00677_RIGHT_CC_1': 1, 'Mass-Test_P_00677_RIGHT_MLO_1': 1, 'Mass-Test_P_00699_RIGHT_CC_1': 0, 'Mass-Test_P_00699_RIGHT_MLO_1': 0, 'Mass-Test_P_00707_RIGHT_CC_1': 0, 'Mass-Test_P_00707_RIGHT_MLO_1': 0, 'Mass-Test_P_00718_RIGHT_MLO_1': 0, 'Mass-Test_P_00738_RIGHT_CC_1': 0, 'Mass-Test_P_00738_RIGHT_MLO_1': 0, 'Mass-Test_P_00741_LEFT_CC_1': 1, 'Mass-Test_P_00741_LEFT_MLO_1': 1, 'Mass-Test_P_00758_LEFT_CC_1': 1, 'Mass-Test_P_00758_LEFT_MLO_1': 1, 'Mass-Test_P_00766_LEFT_CC_1': 0, 'Mass-Test_P_00766_LEFT_MLO_1': 0, 'Mass-Test_P_00773_LEFT_CC_1': 1, 'Mass-Test_P_00773_LEFT_MLO_1': 1, 'Mass-Test_P_00788_RIGHT_MLO_1': 0, 'Mass-Test_P_00813_RIGHT_MLO_1': 1, 'Mass-Test_P_00820_LEFT_CC_1': 1, 'Mass-Test_P_00820_LEFT_MLO_1': 1, 'Mass-Test_P_00820_RIGHT_CC_1': 0, 'Mass-Test_P_00820_RIGHT_MLO_1': 0, 'Mass-Test_P_00837_RIGHT_CC_1': 0, 'Mass-Test_P_00837_RIGHT_MLO_1': 0, 'Mass-Test_P_00875_RIGHT_CC_1': 1, 'Mass-Test_P_00875_RIGHT_MLO_1': 1, 'Mass-Test_P_00882_RIGHT_CC_1': 0, 'Mass-Test_P_00882_RIGHT_MLO_1': 0, 'Mass-Test_P_00893_LEFT_CC_1': 0, 'Mass-Test_P_00893_LEFT_MLO_1': 0, 'Mass-Test_P_00922_RIGHT_CC_1': 0, 'Mass-Test_P_00922_RIGHT_MLO_1': 0, 'Mass-Test_P_00924_RIGHT_CC_1': 0, 'Mass-Test_P_00928_RIGHT_CC_1': 0, 'Mass-Test_P_00928_RIGHT_MLO_1': 0, 'Mass-Test_P_00928_RIGHT_MLO_2': 0, 'Mass-Test_P_00932_LEFT_MLO_1': 1, 'Mass-Test_P_00942_LEFT_CC_1': 1, 'Mass-Test_P_00947_RIGHT_CC_1': 1, 'Mass-Test_P_00947_RIGHT_MLO_1': 1, 'Mass-Test_P_00951_LEFT_CC_1': 0, 'Mass-Test_P_00951_RIGHT_CC_1': 1, 'Mass-Test_P_00951_RIGHT_MLO_1': 1, 'Mass-Test_P_00962_RIGHT_CC_1': 1, 'Mass-Test_P_00962_RIGHT_MLO_1': 1, 'Mass-Test_P_00966_RIGHT_MLO_1': 0, 'Mass-Test_P_00969_LEFT_CC_1': 0, 'Mass-Test_P_00969_LEFT_CC_3': 1, 'Mass-Test_P_00969_LEFT_MLO_1': 0, 'Mass-Test_P_00969_LEFT_MLO_4': 1, 'Mass-Test_P_00979_LEFT_CC_1': 0, 'Mass-Test_P_00979_LEFT_MLO_1': 0, 'Mass-Test_P_00980_LEFT_CC_1': 0, 'Mass-Test_P_00980_LEFT_MLO_1': 0, 'Mass-Test_P_00985_RIGHT_CC_1': 1, 'Mass-Test_P_00985_RIGHT_MLO_1': 1, 'Mass-Test_P_00986_LEFT_MLO_1': 1, 'Mass-Test_P_00987_LEFT_CC_1': 1, 'Mass-Test_P_00987_LEFT_MLO_1': 1, 'Mass-Test_P_01014_LEFT_CC_1': 1, 'Mass-Test_P_01014_LEFT_MLO_1': 1, 'Mass-Test_P_01044_LEFT_MLO_1': 1, 'Mass-Test_P_01068_RIGHT_MLO_1': 1, 'Mass-Test_P_01090_LEFT_CC_1': 0, 'Mass-Test_P_01090_LEFT_CC_2': 0, 'Mass-Test_P_01090_LEFT_CC_3': 0, 'Mass-Test_P_01090_LEFT_MLO_1': 0, 'Mass-Test_P_01090_LEFT_MLO_2': 0, 'Mass-Test_P_01090_LEFT_MLO_3': 0, 'Mass-Test_P_01090_LEFT_MLO_4': 0, 'Mass-Test_P_01090_RIGHT_MLO_1': 0, 'Mass-Test_P_01101_LEFT_CC_1': 0, 'Mass-Test_P_01106_LEFT_MLO_1': 0, 'Mass-Test_P_01108_RIGHT_CC_1': 0, 'Mass-Test_P_01108_RIGHT_MLO_1': 0, 'Mass-Test_P_01110_RIGHT_CC_1': 1, 'Mass-Test_P_01114_RIGHT_MLO_1': 1, 'Mass-Test_P_01119_LEFT_CC_1': 1, 'Mass-Test_P_01119_LEFT_MLO_1': 1, 'Mass-Test_P_01140_LEFT_CC_1': 1, 'Mass-Test_P_01140_LEFT_MLO_1': 1, 'Mass-Test_P_01145_LEFT_MLO_1': 0, 'Mass-Test_P_01167_LEFT_MLO_1': 1, 'Mass-Test_P_01183_LEFT_CC_1': 0, 'Mass-Test_P_01183_LEFT_MLO_1': 0, 'Mass-Test_P_01187_LEFT_MLO_1': 0, 'Mass-Test_P_01192_LEFT_CC_1': 0, 'Mass-Test_P_01192_LEFT_MLO_1': 0, 'Mass-Test_P_01204_RIGHT_CC_1': 1, 'Mass-Test_P_01204_RIGHT_MLO_1': 1, 'Mass-Test_P_01210_RIGHT_MLO_1': 1, 'Mass-Test_P_01213_LEFT_CC_1': 1, 'Mass-Test_P_01213_LEFT_MLO_1': 1, 'Mass-Test_P_01235_RIGHT_MLO_1': 1, 'Mass-Test_P_01251_LEFT_CC_1': 0, 'Mass-Test_P_01251_LEFT_MLO_1': 0, 'Mass-Test_P_01254_RIGHT_CC_1': 0, 'Mass-Test_P_01254_RIGHT_MLO_1': 0, 'Mass-Test_P_01257_RIGHT_CC_1': 0, 'Mass-Test_P_01257_RIGHT_MLO_1': 0, 'Mass-Test_P_01277_RIGHT_CC_1': 1, 'Mass-Test_P_01277_RIGHT_MLO_1': 1, 'Mass-Test_P_01294_RIGHT_CC_1': 1, 'Mass-Test_P_01294_RIGHT_MLO_1': 1, 'Mass-Test_P_01298_LEFT_CC_1': 1, 'Mass-Test_P_01298_LEFT_MLO_1': 1, 'Mass-Test_P_01307_RIGHT_CC_1': 0, 'Mass-Test_P_01307_RIGHT_MLO_1': 0, 'Mass-Test_P_01316_RIGHT_CC_1': 0, 'Mass-Test_P_01316_RIGHT_MLO_1': 0, 'Mass-Test_P_01322_RIGHT_CC_1': 0, 'Mass-Test_P_01322_RIGHT_MLO_1': 0, 'Mass-Test_P_01323_LEFT_CC_1': 1, 'Mass-Test_P_01323_LEFT_MLO_1': 1, 'Mass-Test_P_01331_LEFT_CC_1': 0, 'Mass-Test_P_01331_LEFT_MLO_1': 0, 'Mass-Test_P_01333_LEFT_CC_1': 1, 'Mass-Test_P_01333_LEFT_MLO_1': 1, 'Mass-Test_P_01347_RIGHT_CC_1': 1, 'Mass-Test_P_01347_RIGHT_MLO_1': 1, 'Mass-Test_P_01348_LEFT_MLO_1': 1, 'Mass-Test_P_01351_LEFT_CC_1': 1, 'Mass-Test_P_01365_LEFT_CC_2': 0, 'Mass-Test_P_01378_LEFT_CC_1': 0, 'Mass-Test_P_01378_RIGHT_CC_1': 0, 'Mass-Test_P_01378_RIGHT_MLO_1': 0, 'Mass-Test_P_01381_RIGHT_CC_1': 0, 'Mass-Test_P_01381_RIGHT_MLO_1': 0, 'Mass-Test_P_01395_RIGHT_CC_1': 0, 'Mass-Test_P_01395_RIGHT_MLO_1': 0, 'Mass-Test_P_01416_RIGHT_CC_1': 0, 'Mass-Test_P_01416_RIGHT_MLO_1': 0, 'Mass-Test_P_01467_RIGHT_CC_2': 1, 'Mass-Test_P_01477_LEFT_CC_1': 0, 'Mass-Test_P_01489_RIGHT_MLO_1': 1, 'Mass-Test_P_01502_LEFT_CC_1': 0, 'Mass-Test_P_01502_LEFT_MLO_1': 0, 'Mass-Test_P_01510_RIGHT_CC_1': 0, 'Mass-Test_P_01510_RIGHT_MLO_1': 0, 'Mass-Test_P_01512_LEFT_CC_1': 0, 'Mass-Test_P_01512_LEFT_MLO_1': 0, 'Mass-Test_P_01518_LEFT_CC_1': 0, 'Mass-Test_P_01518_LEFT_MLO_1': 0, 'Mass-Test_P_01534_RIGHT_CC_1': 1, 'Mass-Test_P_01534_RIGHT_MLO_1': 1, 'Mass-Test_P_01539_RIGHT_CC_1': 0, 'Mass-Test_P_01539_RIGHT_MLO_1': 0, 'Mass-Test_P_01546_LEFT_CC_1': 1, 'Mass-Test_P_01546_LEFT_MLO_1': 1, 'Mass-Test_P_01551_LEFT_CC_1': 0, 'Mass-Test_P_01551_LEFT_MLO_1': 0, 'Mass-Test_P_01558_RIGHT_CC_1': 1, 'Mass-Test_P_01558_RIGHT_MLO_1': 1, 'Mass-Test_P_01566_RIGHT_CC_1': 0, 'Mass-Test_P_01566_RIGHT_CC_2': 0, 'Mass-Test_P_01566_RIGHT_MLO_1': 0, 'Mass-Test_P_01566_RIGHT_MLO_2': 0, 'Mass-Test_P_01566_RIGHT_MLO_3': 0, 'Mass-Test_P_01578_LEFT_MLO_1': 0, 'Mass-Test_P_01590_LEFT_CC_1': 0, 'Mass-Test_P_01590_LEFT_MLO_1': 0, 'Mass-Test_P_01595_LEFT_CC_1': 0, 'Mass-Test_P_01595_LEFT_MLO_1': 0, 'Mass-Test_P_01599_LEFT_CC_1': 0, 'Mass-Test_P_01599_LEFT_MLO_1': 0, 'Mass-Test_P_01605_LEFT_CC_2': 0, 'Mass-Test_P_01614_LEFT_MLO_1': 0, 'Mass-Test_P_01617_LEFT_CC_1': 1, 'Mass-Test_P_01617_LEFT_MLO_1': 1, 'Mass-Test_P_01623_RIGHT_CC_1': 1, 'Mass-Test_P_01623_RIGHT_MLO_1': 0, 'Mass-Test_P_01640_LEFT_MLO_1': 1, 'Mass-Test_P_01645_RIGHT_CC_1': 0, 'Mass-Test_P_01651_RIGHT_CC_1': 1, 'Mass-Test_P_01651_RIGHT_MLO_1': 1, 'Mass-Test_P_01661_LEFT_CC_1': 1, 'Mass-Test_P_01661_LEFT_MLO_1': 1, 'Mass-Test_P_01666_RIGHT_CC_1': 1, 'Mass-Test_P_01666_RIGHT_MLO_1': 1, 'Mass-Test_P_01673_RIGHT_CC_1': 0, 'Mass-Test_P_01673_RIGHT_MLO_1': 0, 'Mass-Test_P_01677_RIGHT_MLO_1': 0, 'Mass-Test_P_01684_LEFT_CC_1': 0, 'Mass-Test_P_01684_LEFT_MLO_1': 0, 'Mass-Test_P_01690_LEFT_CC_1': 0, 'Mass-Test_P_01690_LEFT_MLO_1': 0, 'Mass-Test_P_01697_LEFT_CC_1': 0, 'Mass-Test_P_01697_LEFT_MLO_1': 0, 'Mass-Test_P_01716_RIGHT_CC_1': 0, 'Mass-Test_P_01716_RIGHT_MLO_1': 0, 'Mass-Test_P_01719_RIGHT_CC_1': 1, 'Mass-Test_P_01719_RIGHT_MLO_1': 1, 'Mass-Test_P_01726_RIGHT_CC_1': 0, 'Mass-Test_P_01726_RIGHT_MLO_1': 0, 'Mass-Test_P_01741_LEFT_CC_1': 1, 'Mass-Test_P_01741_LEFT_MLO_1': 1, 'Mass-Test_P_01765_RIGHT_CC_1': 0, 'Mass-Test_P_01765_RIGHT_MLO_1': 0, 'Mass-Test_P_01778_RIGHT_CC_1': 1, 'Mass-Test_P_01787_LEFT_CC_1': 1, 'Mass-Test_P_01787_LEFT_MLO_1': 1, 'Mass-Test_P_01795_LEFT_CC_1': 0, 'Mass-Test_P_01795_LEFT_MLO_1': 0, 'Mass-Test_P_01796_LEFT_CC_1': 0, 'Mass-Test_P_01796_LEFT_MLO_1': 0, 'Mass-Test_P_01797_LEFT_CC_1': 0, 'Mass-Test_P_01797_LEFT_MLO_1': 0, 'Mass-Test_P_01800_LEFT_CC_1': 1, 'Mass-Test_P_01800_LEFT_MLO_1': 1, 'Mass-Test_P_01800_RIGHT_CC_1': 0, 'Mass-Test_P_01807_RIGHT_MLO_1': 0, 'Mass-Test_P_01815_RIGHT_CC_1': 1, 'Mass-Test_P_01815_RIGHT_MLO_1': 1, 'Mass-Test_P_01825_RIGHT_CC_1': 0, 'Mass-Test_P_01825_RIGHT_MLO_1': 0, 'Mass-Test_P_01833_RIGHT_MLO_1': 1, 'Mass-Test_P_01865_LEFT_MLO_1': 1, 'Mass-Test_P_01912_RIGHT_CC_1': 1, 'Mass-Test_P_01912_RIGHT_MLO_1': 1}"
     ]
    },
    {
     "name": "stdout",
     "output_type": "stream",
     "text": [
      "\n"
     ]
    }
   ],
   "source": [
    "print(test_cropped_label_dict)"
   ]
  },
  {
   "cell_type": "markdown",
   "metadata": {},
   "source": [
    "Generate the HDF5 file with actual image and label data using the two dictionaries created above."
   ]
  },
  {
   "cell_type": "code",
   "execution_count": 4,
   "metadata": {},
   "outputs": [],
   "source": [
    "train_cropped_root_path = 'Mass-Full-Images_CBIS-DDSM/Training-cropped'\n",
    "test_cropped_root_path = 'Mass-Full-Images_CBIS-DDSM/Test-cropped'\n",
    "\n",
    "# Get list of all files with .dcm extension for train and test images\n",
    "train_cropped_filenames = glob.glob(os.path.join('Mass-Full-Images_CBIS-DDSM/Training-cropped', '**', '*.dcm'), recursive=True)\n",
    "test_cropped_filenames = glob.glob(os.path.join('Mass-Full-Images_CBIS-DDSM/Test-cropped', '**', '*.dcm'), recursive=True)\n",
    "\n",
    "\n",
    "with h5py.File('ddsm_cropped_all.hdf5', mode='w') as hdf5_file:\n",
    "    # create placeholders for image data and labels in the hdf5 file\n",
    "    hdf5_file.create_dataset(\"data\", (1696, 224, 224), np.float32)\n",
    "    hdf5_file.create_dataset(\"labels\", (1696,), np.int32)\n",
    "\n",
    "    transform = transforms.Compose([transforms.Resize((224, 224))])\n",
    "\n",
    "    i = 0\n",
    "    for fn in train_cropped_filenames:\n",
    "        # read in the DICOM file data (including metadata)\n",
    "        path_excluding_root_path = fn[len(train_cropped_root_path) + 1:]\n",
    "        image_path_base_dir = path_excluding_root_path[:path_excluding_root_path.find('\\\\')]\n",
    "        ds = pydicom.read_file(fn)\n",
    "        # Only consider the file if it is marked as \"cropped images\"\n",
    "        if ds.SeriesDescription == 'cropped images':\n",
    "            # read in the actual pixel array from the DICOM file data\n",
    "            image = Image.fromarray(ds.pixel_array.astype(float))\n",
    "            # apply the transform and convert to numpy array\n",
    "            t = np.array(transform(image))\n",
    "            # read corresponding label from the dictionary created earlier\n",
    "            label = train_cropped_label_dict[image_path_base_dir]\n",
    "            # append the image and label data to the corresponding index of the HDF5 file\n",
    "            hdf5_file[\"data\"][i, ...] = t\n",
    "            hdf5_file[\"labels\"][i] = label\n",
    "            i += 1\n",
    "    \n",
    "    for fn in test_cropped_filenames:\n",
    "        path_excluding_root_path = fn[len(test_cropped_root_path) + 1:]\n",
    "        image_path_base_dir = path_excluding_root_path[:path_excluding_root_path.find('\\\\')]\n",
    "        ds = pydicom.read_file(fn)\n",
    "        if ds.SeriesDescription == 'cropped images':\n",
    "            image = Image.fromarray(ds.pixel_array.astype(float))\n",
    "            t = np.array(transform(image))\n",
    "            label = test_cropped_label_dict[image_path_base_dir]\n",
    "            hdf5_file[\"data\"][i, ...] = t\n",
    "            hdf5_file[\"labels\"][i] = label\n",
    "            i += 1"
   ]
  },
  {
   "cell_type": "code",
   "execution_count": 6,
   "metadata": {},
   "outputs": [
    {
     "name": "stdout",
     "output_type": "stream",
     "text": [
      "[1 1 0 ... 1 1 1]\n"
     ]
    }
   ],
   "source": [
    "with h5py.File('ddsm_cropped_all.hdf5', mode='r') as hdf5_file:\n",
    "    labels = np.array(hdf5_file['labels'])\n",
    "    print(labels)"
   ]
  },
  {
   "cell_type": "code",
   "execution_count": 10,
   "metadata": {},
   "outputs": [
    {
     "name": "stdout",
     "output_type": "stream",
     "text": [
      "[array([   0,    1,    2, ..., 1692, 1693, 1694]), array([   8,   10,   14,   18,   20,   23,   26,   32,   34,   35,   41,\n",
      "         46,   48,   50,   53,   62,   70,   72,   73,   81,   83,   90,\n",
      "         92,   98,   99,  100,  111,  116,  120,  124,  126,  128,  129,\n",
      "        135,  137,  140,  141,  144,  149,  152,  153,  155,  165,  167,\n",
      "        169,  170,  171,  172,  173,  175,  177,  183,  189,  193,  199,\n",
      "        214,  216,  218,  229,  242,  246,  247,  251,  257,  263,  264,\n",
      "        272,  274,  275,  295,  299,  301,  308,  309,  311,  313,  315,\n",
      "        316,  320,  321,  325,  328,  333,  336,  338,  340,  344,  350,\n",
      "        355,  356,  359,  364,  367,  372,  380,  397,  402,  404,  415,\n",
      "        423,  424,  426,  432,  452,  455,  460,  470,  476,  484,  485,\n",
      "        490,  493,  499,  504,  508,  514,  522,  528,  533,  545,  551,\n",
      "        554,  555,  558,  560,  564,  567,  568,  573,  581,  584,  586,\n",
      "        587,  600,  604,  612,  616,  618,  624,  626,  633,  638,  658,\n",
      "        659,  674,  677,  690,  692,  704,  711,  713,  719,  723,  731,\n",
      "        734,  736,  737,  738,  743,  750,  761,  767,  769,  771,  772,\n",
      "        775,  777,  779,  797,  805,  806,  812,  813,  821,  832,  834,\n",
      "        835,  837,  838,  839,  842,  850,  851,  859,  862,  864,  866,\n",
      "        867,  873,  880,  881,  885,  895,  898,  901,  906,  908,  913,\n",
      "        916,  920,  925,  926,  931,  941,  942,  943,  961,  964,  969,\n",
      "        972,  983,  995, 1005, 1011, 1017, 1020, 1053, 1056, 1068, 1078,\n",
      "       1086, 1091, 1094, 1095, 1096, 1098, 1100, 1105, 1112, 1118, 1119,\n",
      "       1123, 1130, 1132, 1134, 1136, 1137, 1139, 1150, 1155, 1157, 1158,\n",
      "       1168, 1175, 1186, 1188, 1191, 1195, 1203, 1207, 1212, 1222, 1224,\n",
      "       1233, 1235, 1244, 1255, 1259, 1267, 1271, 1274, 1292, 1293, 1309,\n",
      "       1314, 1317, 1322, 1324, 1325, 1331, 1340, 1341, 1343, 1344, 1345,\n",
      "       1361, 1362, 1366, 1374, 1378, 1380, 1395, 1396, 1399, 1405, 1431,\n",
      "       1451, 1454, 1455, 1469, 1471, 1473, 1474, 1475, 1477, 1487, 1497,\n",
      "       1499, 1505, 1516, 1517, 1522, 1529, 1533, 1537, 1544, 1551, 1553,\n",
      "       1559, 1563, 1566, 1571, 1573, 1580, 1581, 1587, 1589, 1596, 1600,\n",
      "       1604, 1611, 1628, 1633, 1641, 1647, 1648, 1652, 1654, 1656, 1661,\n",
      "       1663, 1664, 1665, 1672, 1673, 1676, 1679, 1681, 1687, 1695])]\n"
     ]
    }
   ],
   "source": [
    "df = pd.DataFrame({'label': labels})\n",
    "df['number'] = df.index\n",
    "\n",
    "x = df['number'].values\n",
    "y = df['label'].values\n",
    "\n",
    "# apply 5-fold stratified split on the indices (in the number column of the dataframe)\n",
    "skf = StratifiedKFold(n_splits=5, shuffle=True)\n",
    "skf.get_n_splits(x, y)\n",
    "\n",
    "cv_indices = []\n",
    "# in this loop, train_index is the list of indices of the benign images, \n",
    "# test_index is the list of indices of the malignant images\n",
    "for train_index, test_index in skf.split(x, y):\n",
    "    cv_indices.append([np.array(train_index), np.array(test_index)])\n",
    "\n",
    "print(cv_indices[0])"
   ]
  },
  {
   "cell_type": "code",
   "execution_count": 7,
   "metadata": {},
   "outputs": [],
   "source": [
    "# add the indices for the 5 splits to the HDF5 file as well\n",
    "with h5py.File('ddsm_cropped_all.hdf5', mode='a') as hdf5_file:\n",
    "    hdf5_file.create_dataset(\"cv_indices_train_0\", data=cv_indices[0][0])\n",
    "    hdf5_file.create_dataset(\"cv_indices_train_1\", data=cv_indices[1][0])\n",
    "    hdf5_file.create_dataset(\"cv_indices_train_2\", data=cv_indices[2][0])\n",
    "    hdf5_file.create_dataset(\"cv_indices_train_3\", data=cv_indices[3][0])\n",
    "    hdf5_file.create_dataset(\"cv_indices_train_4\", data=cv_indices[4][0])\n",
    "    hdf5_file.create_dataset(\"cv_indices_test_0\", data=cv_indices[0][1])\n",
    "    hdf5_file.create_dataset(\"cv_indices_test_1\", data=cv_indices[1][1])\n",
    "    hdf5_file.create_dataset(\"cv_indices_test_2\", data=cv_indices[2][1])\n",
    "    hdf5_file.create_dataset(\"cv_indices_test_3\", data=cv_indices[3][1])\n",
    "    hdf5_file.create_dataset(\"cv_indices_test_4\", data=cv_indices[4][1])"
   ]
  },
  {
   "cell_type": "markdown",
   "metadata": {},
   "source": [
    "## Exploratory Analysis - Visualize Class Distribution"
   ]
  },
  {
   "cell_type": "code",
   "execution_count": 24,
   "metadata": {},
   "outputs": [
    {
     "data": {
      "image/png": "[encoded data removed]",
      "text/plain": [
       "<Figure size 432x432 with 1 Axes>"
      ]
     },
     "metadata": {},
     "output_type": "display_data"
    }
   ],
   "source": [
    "def make_autopct(values):\n",
    "    def my_autopct(pct):\n",
    "        total = sum(values)\n",
    "        val = int(round(pct*total/100.0))\n",
    "        return '{p:.2f}%  ({v:d})'.format(p=pct,v=val)\n",
    "    return my_autopct\n",
    "\n",
    "classes = ['Benign', 'Malignant']\n",
    "fig = plt.figure(figsize=(6,6))\n",
    "\n",
    "labels_all = np.array(list(train_label_dict.values()) + list(test_label_dict.values()))\n",
    "\n",
    "malignant_count = labels.sum()\n",
    "benign_count = len(labels) - malignant_count\n",
    "counts = [benign_count, malignant_count]\n",
    "\n",
    "ax = plt.pie(counts, labels=classes, autopct=make_autopct(counts), pctdistance=0.8, labeldistance=1.1)\n",
    "# plt.title('Class Distribution',  y=-0.1)\n",
    "plt.tight_layout()\n",
    "plt.savefig('dist.png')\n",
    "plt.show()"
   ]
  }
 ],
 "metadata": {
  "kernelspec": {
   "display_name": "Python 3",
   "language": "python",
   "name": "python3"
  },
  "language_info": {
   "codemirror_mode": {
    "name": "ipython",
    "version": 3
   },
   "file_extension": ".py",
   "mimetype": "text/x-python",
   "name": "python",
   "nbconvert_exporter": "python",
   "pygments_lexer": "ipython3",
   "version": "3.7.3"
  }
 },
 "nbformat": 4,
 "nbformat_minor": 2
}
